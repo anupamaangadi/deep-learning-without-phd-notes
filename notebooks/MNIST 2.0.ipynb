{
 "cells": [
  {
   "cell_type": "markdown",
   "metadata": {},
   "source": [
    "# MNIST 2.0"
   ]
  },
  {
   "cell_type": "markdown",
   "metadata": {},
   "source": [
    "This document serves as my notes on the Deep Learning Without a PhD seminar by Google. \n",
    "\n",
    "* [Video](https://www.youtube.com/watch?v=vq2nnJ4g6N0)\n",
    "* [Slides - 1](https://docs.google.com/presentation/d/1TVixw6ItiZ8igjp6U17tcgoFrLSaHWQmMOwjlgQY9co/pub?slide=id.p)\n",
    "* [Slides - 2](https://docs.google.com/presentation/d/e/2PACX-1vRouwj_3cYsmLrNNI3Uq5gv5-hYp_QFdeoan2GlxKgIZRSejozruAbVV0IMXBoPsINB7Jw92vJo2EAM/pub?slide=id.p)\n",
    "\n",
    "This notebook covers the second example, of trying to classify MNIST digits using 5 fully connected layers with a softmax."
   ]
  },
  {
   "cell_type": "markdown",
   "metadata": {},
   "source": [
    "# Setup\n",
    "\n",
    "## Imports"
   ]
  },
  {
   "cell_type": "code",
   "execution_count": 1,
   "metadata": {
    "collapsed": true
   },
   "outputs": [],
   "source": [
    "import tensorflow as tf\n",
    "from tensorflow.examples.tutorials.mnist import input_data as mnist_data\n",
    "import pickle\n",
    "\n",
    "import matplotlib.pyplot as plt\n",
    "%matplotlib inline\n",
    "import seaborn as sns\n",
    "sns.set()"
   ]
  },
  {
   "cell_type": "markdown",
   "metadata": {},
   "source": [
    "## Load Data"
   ]
  },
  {
   "cell_type": "code",
   "execution_count": 2,
   "metadata": {},
   "outputs": [
    {
     "name": "stdout",
     "output_type": "stream",
     "text": [
      "Extracting data/train-images-idx3-ubyte.gz\n",
      "Extracting data/train-labels-idx1-ubyte.gz\n",
      "Extracting data/t10k-images-idx3-ubyte.gz\n",
      "Extracting data/t10k-labels-idx1-ubyte.gz\n"
     ]
    }
   ],
   "source": [
    "# Download images and labels into mnist.test (10K images+labels) and mnist.train (60K images+labels)\n",
    "mnist = mnist_data.read_data_sets(\"data\", one_hot=True, reshape=False, validation_size=0)"
   ]
  },
  {
   "cell_type": "markdown",
   "metadata": {},
   "source": [
    "## Setup Model"
   ]
  },
  {
   "cell_type": "markdown",
   "metadata": {},
   "source": [
    "In this noteboo, we're going to use 5 fully connected layers:\n",
    "\n",
    "![](images/5-layers.png)\n",
    "\n",
    "* take each $28 \\times 28$ image, flatten into a $784$ vector\n",
    "* have that fully connected to a $200$ node sigmoid layer\n",
    "* have that fully connected to a $100$ node sigmoid layer\n",
    "* have that fully connected to a $60$ node sigmoid layer\n",
    "* have that fully connected to a $30$ node sigmoid layer\n",
    "* have that fully connected to a $10$ node softmax layer - this is the classification/output layer"
   ]
  },
  {
   "cell_type": "markdown",
   "metadata": {},
   "source": [
    "In this example, our intermdiate \"hidden\" layers are using a sigmoid activation function:\n",
    "\n",
    "![](images/sigmoid.png)"
   ]
  },
  {
   "cell_type": "markdown",
   "metadata": {},
   "source": [
    "Lets define all our sizes up front for clarity"
   ]
  },
  {
   "cell_type": "code",
   "execution_count": 3,
   "metadata": {
    "collapsed": true
   },
   "outputs": [],
   "source": [
    "batchSize = None;       # put None for right now as we dont know yet\n",
    "\n",
    "imgHeight = 28\n",
    "imgWidth = 28\n",
    "numOfColors = 1         # gray scale images\n",
    "\n",
    "flatSize = imgHeight*imgWidth*numOfColors   # 728\n",
    "\n",
    "numberOfClasses = 10    # 10 classes: 0-9\n",
    "\n",
    "# Size of each layer:\n",
    "sizeLayerOne = 200\n",
    "sizeLayerTwo = 100\n",
    "sizeLayerThree = 60\n",
    "sizeLayerFour = 30\n",
    "sizeLayerFive = numberOfClasses       # the final layer is the output layer"
   ]
  },
  {
   "cell_type": "markdown",
   "metadata": {},
   "source": [
    "Lets begin with our our input images: `X_img`:"
   ]
  },
  {
   "cell_type": "code",
   "execution_count": 4,
   "metadata": {
    "collapsed": true
   },
   "outputs": [],
   "source": [
    "# Input Data\n",
    "X_img = tf.placeholder(tf.float32, [batchSize, imgHeight, imgWidth, numOfColors], name=\"X_img\")\n",
    "X_vec = tf.reshape(X_img, [-1, 784], name=\"X_vec\")"
   ]
  },
  {
   "cell_type": "markdown",
   "metadata": {},
   "source": [
    "And the necessery placeholders:"
   ]
  },
  {
   "cell_type": "code",
   "execution_count": 5,
   "metadata": {
    "collapsed": true
   },
   "outputs": [],
   "source": [
    "Y_True = tf.placeholder(tf.float32, [batchSize, 10])"
   ]
  },
  {
   "cell_type": "markdown",
   "metadata": {},
   "source": [
    "Now we define our weights, biases and activations *for each layer*. \n",
    "\n",
    "For the first layer we are connecting a vector of size $784$ to $200$ nodes. Programatically that means connecting `flatSize` to `sizeLayerOne`:"
   ]
  },
  {
   "cell_type": "code",
   "execution_count": 6,
   "metadata": {
    "collapsed": true
   },
   "outputs": [],
   "source": [
    "with tf.name_scope(\"Layer_1\"):\n",
    "    # Weights\n",
    "    W1 = tf.Variable(tf.truncated_normal([flatSize, sizeLayerOne], stddev=0.1), name=\"Weights\")\n",
    "\n",
    "    # Biases\n",
    "    b1 = tf.Variable(tf.zeros([sizeLayerOne]), name=\"Biases\")\n",
    "    \n",
    "    # Sigmoid Activation\n",
    "    Y1 = tf.nn.sigmoid(tf.matmul(X_vec, W1) + b1, name=\"Activation\")"
   ]
  },
  {
   "cell_type": "code",
   "execution_count": 7,
   "metadata": {
    "collapsed": true
   },
   "outputs": [],
   "source": [
    "with tf.name_scope(\"Layer_2\"):\n",
    "    # Weights\n",
    "    W2 = tf.Variable(tf.truncated_normal([sizeLayerOne, sizeLayerTwo], stddev=0.1), name=\"Weights\")\n",
    "\n",
    "    # Biases\n",
    "    b2 = tf.Variable(tf.zeros([sizeLayerTwo]), name=\"Biases\")\n",
    "    \n",
    "    # Sigmoid Activation\n",
    "    Y2 = tf.nn.sigmoid(tf.matmul(Y1, W2) + b2, name=\"Activation\")"
   ]
  },
  {
   "cell_type": "code",
   "execution_count": 8,
   "metadata": {
    "collapsed": true
   },
   "outputs": [],
   "source": [
    "with tf.name_scope(\"Layer_3\"):\n",
    "    # Weights\n",
    "    W3 = tf.Variable(tf.truncated_normal([sizeLayerTwo, sizeLayerThree], stddev=0.1), name=\"Weights\")\n",
    "\n",
    "    # Biases\n",
    "    b3 = tf.Variable(tf.zeros([sizeLayerThree]), name=\"Biases\")\n",
    "    \n",
    "    # Sigmoid Activation\n",
    "    Y3 = tf.nn.sigmoid(tf.matmul(Y2, W3) + b3, name=\"Activation\")"
   ]
  },
  {
   "cell_type": "code",
   "execution_count": 9,
   "metadata": {
    "collapsed": true
   },
   "outputs": [],
   "source": [
    "with tf.name_scope(\"Layer_4\"):\n",
    "    # Weights\n",
    "    W4 = tf.Variable(tf.truncated_normal([sizeLayerThree, sizeLayerFour], stddev=0.1), name=\"Weights\")\n",
    "\n",
    "    # Biases\n",
    "    b4 = tf.Variable(tf.zeros([sizeLayerFour]), name=\"Biases\")\n",
    "    \n",
    "    # Sigmoid Activation\n",
    "    Y4 = tf.nn.sigmoid(tf.matmul(Y3, W4) + b4, name=\"Activation\")"
   ]
  },
  {
   "cell_type": "markdown",
   "metadata": {},
   "source": [
    "Now we have the output layer"
   ]
  },
  {
   "cell_type": "code",
   "execution_count": 10,
   "metadata": {
    "collapsed": true
   },
   "outputs": [],
   "source": [
    "with tf.name_scope(\"Output_Layer\"):\n",
    "    # Weights\n",
    "    W5 = tf.Variable(tf.truncated_normal([sizeLayerFour, sizeLayerFive], stddev=0.1), name=\"Weights\")\n",
    "\n",
    "    # Biases\n",
    "    b5 = tf.Variable(tf.zeros([sizeLayerFive]), name=\"Biases\")\n",
    "    \n",
    "    # Output logits\n",
    "    Y_logits = tf.matmul(Y4, W5) + b5\n",
    "    \n",
    "    # Softmax Activation\n",
    "    Y_Pred = tf.nn.softmax(Y_logits, name=\"Activation\")"
   ]
  },
  {
   "cell_type": "markdown",
   "metadata": {},
   "source": [
    "**Note:** The cross-entropy loss function is \n",
    "\n",
    "$$ - \\sum \\left( \\tilde{Y}_i \\cdot \\log(Y_i) \\right)$$\n",
    "\n",
    "TensorFlow provides the `softmax_cross_entropy_with_logits` function to avoid numerical stability problems with `log(0)` which is `NaN`, so we use that instead below, *normalized for batches of $100$ images*"
   ]
  },
  {
   "cell_type": "code",
   "execution_count": 11,
   "metadata": {
    "collapsed": true
   },
   "outputs": [],
   "source": [
    "cross_entropy = tf.nn.softmax_cross_entropy_with_logits(logits=Y_logits, labels=Y_True)\n",
    "cross_entropy = tf.reduce_mean(cross_entropy)*100"
   ]
  },
  {
   "cell_type": "markdown",
   "metadata": {},
   "source": [
    "We define our accuracy metric:"
   ]
  },
  {
   "cell_type": "code",
   "execution_count": 12,
   "metadata": {
    "collapsed": true
   },
   "outputs": [],
   "source": [
    "# accuracy of the trained model, between 0 (worst) and 1 (best)\n",
    "correct_prediction = tf.equal(tf.argmax(Y_Pred, 1), tf.argmax(Y_True, 1))\n",
    "accuracy = tf.reduce_mean(tf.cast(correct_prediction, tf.float32))"
   ]
  },
  {
   "cell_type": "markdown",
   "metadata": {},
   "source": [
    "And now the training step using the `Adam` Optimizer:"
   ]
  },
  {
   "cell_type": "code",
   "execution_count": 13,
   "metadata": {
    "collapsed": true
   },
   "outputs": [],
   "source": [
    "# training step, learning rate = 0.003\n",
    "learning_rate = 0.003\n",
    "trainStep = tf.train.AdamOptimizer(learning_rate).minimize(cross_entropy)"
   ]
  },
  {
   "cell_type": "markdown",
   "metadata": {},
   "source": [
    "Now we can continue as before:"
   ]
  },
  {
   "cell_type": "code",
   "execution_count": 14,
   "metadata": {
    "collapsed": true
   },
   "outputs": [],
   "source": [
    "numberOfBatches = 10000\n",
    "batchSize = 100\n",
    "\n",
    "trainingAccuracyList = []\n",
    "trainingLossList = []\n",
    "testAccuracyList = []\n",
    "testLossList = []"
   ]
  },
  {
   "cell_type": "code",
   "execution_count": 15,
   "metadata": {
    "scrolled": true
   },
   "outputs": [
    {
     "name": "stdout",
     "output_type": "stream",
     "text": [
      "Batch number:  0\n",
      "Batch number:  100\n",
      "Batch number:  200\n",
      "Batch number:  300\n",
      "Batch number:  400\n",
      "Batch number:  500\n",
      "Batch number:  600\n",
      "Batch number:  700\n",
      "Batch number:  800\n",
      "Batch number:  900\n",
      "Batch number:  1000\n",
      "Batch number:  1100\n",
      "Batch number:  1200\n",
      "Batch number:  1300\n",
      "Batch number:  1400\n",
      "Batch number:  1500\n",
      "Batch number:  1600\n",
      "Batch number:  1700\n",
      "Batch number:  1800\n",
      "Batch number:  1900\n",
      "Batch number:  2000\n",
      "Batch number:  2100\n",
      "Batch number:  2200\n",
      "Batch number:  2300\n",
      "Batch number:  2400\n",
      "Batch number:  2500\n",
      "Batch number:  2600\n",
      "Batch number:  2700\n",
      "Batch number:  2800\n",
      "Batch number:  2900\n",
      "Batch number:  3000\n",
      "Batch number:  3100\n",
      "Batch number:  3200\n",
      "Batch number:  3300\n",
      "Batch number:  3400\n",
      "Batch number:  3500\n",
      "Batch number:  3600\n",
      "Batch number:  3700\n",
      "Batch number:  3800\n",
      "Batch number:  3900\n",
      "Batch number:  4000\n",
      "Batch number:  4100\n",
      "Batch number:  4200\n",
      "Batch number:  4300\n",
      "Batch number:  4400\n",
      "Batch number:  4500\n",
      "Batch number:  4600\n",
      "Batch number:  4700\n",
      "Batch number:  4800\n",
      "Batch number:  4900\n",
      "Batch number:  5000\n",
      "Batch number:  5100\n",
      "Batch number:  5200\n",
      "Batch number:  5300\n",
      "Batch number:  5400\n",
      "Batch number:  5500\n",
      "Batch number:  5600\n",
      "Batch number:  5700\n",
      "Batch number:  5800\n",
      "Batch number:  5900\n",
      "Batch number:  6000\n",
      "Batch number:  6100\n",
      "Batch number:  6200\n",
      "Batch number:  6300\n",
      "Batch number:  6400\n",
      "Batch number:  6500\n",
      "Batch number:  6600\n",
      "Batch number:  6700\n",
      "Batch number:  6800\n",
      "Batch number:  6900\n",
      "Batch number:  7000\n",
      "Batch number:  7100\n",
      "Batch number:  7200\n",
      "Batch number:  7300\n",
      "Batch number:  7400\n",
      "Batch number:  7500\n",
      "Batch number:  7600\n",
      "Batch number:  7700\n",
      "Batch number:  7800\n",
      "Batch number:  7900\n",
      "Batch number:  8000\n",
      "Batch number:  8100\n",
      "Batch number:  8200\n",
      "Batch number:  8300\n",
      "Batch number:  8400\n",
      "Batch number:  8500\n",
      "Batch number:  8600\n",
      "Batch number:  8700\n",
      "Batch number:  8800\n",
      "Batch number:  8900\n",
      "Batch number:  9000\n",
      "Batch number:  9100\n",
      "Batch number:  9200\n",
      "Batch number:  9300\n",
      "Batch number:  9400\n",
      "Batch number:  9500\n",
      "Batch number:  9600\n",
      "Batch number:  9700\n",
      "Batch number:  9800\n",
      "Batch number:  9900\n"
     ]
    }
   ],
   "source": [
    "init = tf.global_variables_initializer()\n",
    "with tf.Session() as sess:\n",
    "    \n",
    "    # actually initialize our variables\n",
    "    sess.run(init)\n",
    "    \n",
    "    # batch-minimization loop\n",
    "    for i in range(numberOfBatches):\n",
    "        # get this batches data\n",
    "        batch_X, batch_Y = mnist.train.next_batch(batchSize)\n",
    "        \n",
    "        # setup this batches input dictionary\n",
    "        train_data = {X_img: batch_X, Y_True: batch_Y}\n",
    "        \n",
    "        # run the training step on this batch\n",
    "        sess.run(trainStep, feed_dict=train_data)\n",
    "\n",
    "        # compute this batches success on the training data\n",
    "        trainAcc, trainLoss = sess.run([accuracy, cross_entropy], feed_dict=train_data)\n",
    "\n",
    "        if i%100 == 0:\n",
    "            # compute our success on the test data\n",
    "            test_data = {X_img: mnist.test.images, Y_True: mnist.test.labels}\n",
    "            testAcc,testLoss = sess.run([accuracy, cross_entropy], feed_dict=test_data)\n",
    "            # print(\"Train \" + str(i) + \": accuracy:\" + str(trainAcc) + \" loss: \" + str(trainLoss))\n",
    "            # print(\"Test \" + str(i) + \": accuracy:\" + str(testAcc) + \" loss: \" + str(testLoss))\n",
    "            \n",
    "            trainingAccuracyList.append(trainAcc)\n",
    "            trainingLossList.append(trainLoss)\n",
    "            testAccuracyList.append(testAcc)\n",
    "            testLossList.append(testLoss)\n",
    "            \n",
    "            print(\"Batch number: \",i)"
   ]
  },
  {
   "cell_type": "markdown",
   "metadata": {},
   "source": [
    "# Plotting"
   ]
  },
  {
   "cell_type": "code",
   "execution_count": 16,
   "metadata": {},
   "outputs": [
    {
     "data": {
      "image/png": "[encoded data removed]",
      "text/plain": [
       "<matplotlib.figure.Figure at 0x1c1d3440b8>"
      ]
     },
     "metadata": {},
     "output_type": "display_data"
    }
   ],
   "source": [
    "plt.figure(figsize=(10,5))\n",
    "\n",
    "# Plot Accuracy\n",
    "plt.subplot(1,2,1);\n",
    "plt.plot(trainingAccuracyList, label=\"Train Acc\");\n",
    "plt.plot(testAccuracyList, label=\"Test Acc\");\n",
    "plt.title(\"Accuracy\");\n",
    "plt.legend();\n",
    "\n",
    "# Plot Loss\n",
    "plt.subplot(1,2,2);\n",
    "plt.plot(trainingLossList, label=\"Test Loss\");\n",
    "plt.plot(testLossList, label=\"Test Loss\");\n",
    "plt.title(\"Loss\");\n",
    "plt.legend();"
   ]
  },
  {
   "cell_type": "markdown",
   "metadata": {},
   "source": [
    "**Note:** I don't why we have that spike there! Maybe I coded up something incorrectly. Either way, lets have a look at just the tail of the plots:"
   ]
  },
  {
   "cell_type": "code",
   "execution_count": 17,
   "metadata": {
    "scrolled": true
   },
   "outputs": [
    {
     "data": {
      "image/png": "[encoded data removed]",
      "text/plain": [
       "<matplotlib.figure.Figure at 0x1c1d3d65f8>"
      ]
     },
     "metadata": {},
     "output_type": "display_data"
    }
   ],
   "source": [
    "tailLength = -90\n",
    "\n",
    "plt.figure(figsize=(10,5))\n",
    "\n",
    "# Plot Accuracy\n",
    "plt.subplot(1,2,1);\n",
    "plt.plot(trainingAccuracyList[tailLength:], label=\"Train Acc\");\n",
    "plt.plot(testAccuracyList[tailLength:], label=\"Test Acc\");\n",
    "plt.title(\"Accuracy\");\n",
    "plt.legend();\n",
    "\n",
    "# Plot Loss\n",
    "plt.subplot(1,2,2);\n",
    "plt.plot(trainingLossList[tailLength:], label=\"Test Loss\");\n",
    "plt.plot(testLossList[tailLength:], label=\"Test Loss\");\n",
    "plt.title(\"Loss\");\n",
    "plt.legend();"
   ]
  },
  {
   "cell_type": "markdown",
   "metadata": {},
   "source": [
    "# Save Results"
   ]
  },
  {
   "cell_type": "code",
   "execution_count": 20,
   "metadata": {},
   "outputs": [],
   "source": [
    "resultsDic = {\"trainAcc\": trainingAccuracyList, \"trainLoss\": trainingLossList, \"testAcc\": testAccuracyList, \"testLoss\": testLossList}\n",
    "\n",
    "with open(\"results/mnist-2.0-results.txt\", \"wb\") as fp:   #Pickling\n",
    "    pickle.dump(resultsDic, fp)"
   ]
  },
  {
   "cell_type": "code",
   "execution_count": null,
   "metadata": {
    "collapsed": true
   },
   "outputs": [],
   "source": []
  }
 ],
 "metadata": {
  "kernelspec": {
   "display_name": "Python 3",
   "language": "python",
   "name": "python3"
  },
  "language_info": {
   "codemirror_mode": {
    "name": "ipython",
    "version": 3
   },
   "file_extension": ".py",
   "mimetype": "text/x-python",
   "name": "python",
   "nbconvert_exporter": "python",
   "pygments_lexer": "ipython3",
   "version": "3.6.3"
  },
  "toc": {
   "nav_menu": {},
   "number_sections": true,
   "sideBar": true,
   "skip_h1_title": false,
   "toc_cell": false,
   "toc_position": {},
   "toc_section_display": "block",
   "toc_window_display": false
  },
  "widgets": {
   "application/vnd.jupyter.widget-state+json": {
    "state": {},
    "version_major": 2,
    "version_minor": 0
   }
  }
 },
 "nbformat": 4,
 "nbformat_minor": 2
}
