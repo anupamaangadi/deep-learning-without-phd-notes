{
 "cells": [
  {
   "cell_type": "markdown",
   "metadata": {},
   "source": [
    "# MNIST 1.0"
   ]
  },
  {
   "cell_type": "markdown",
   "metadata": {},
   "source": [
    "This document serves as my notes on the Deep Learning Without a PhD seminar by Google. \n",
    "\n",
    "* [Video](https://www.youtube.com/watch?v=vq2nnJ4g6N0)\n",
    "* [Slides - 1](https://docs.google.com/presentation/d/1TVixw6ItiZ8igjp6U17tcgoFrLSaHWQmMOwjlgQY9co/pub?slide=id.p)\n",
    "* [Slides - 2](https://docs.google.com/presentation/d/e/2PACX-1vRouwj_3cYsmLrNNI3Uq5gv5-hYp_QFdeoan2GlxKgIZRSejozruAbVV0IMXBoPsINB7Jw92vJo2EAM/pub?slide=id.p)\n",
    "\n",
    "This notebook covers the \"first\" example, of trying to classify MNIST digits using just a weighted sum of pixel values with a softmax. "
   ]
  },
  {
   "cell_type": "markdown",
   "metadata": {},
   "source": [
    "# Setup\n",
    "\n",
    "## Imports"
   ]
  },
  {
   "cell_type": "code",
   "execution_count": 19,
   "metadata": {
    "collapsed": true
   },
   "outputs": [],
   "source": [
    "import tensorflow as tf\n",
    "from tensorflow.examples.tutorials.mnist import input_data as mnist_data\n",
    "\n",
    "import matplotlib.pyplot as plt\n",
    "%matplotlib inline\n",
    "import seaborn as sns\n",
    "sns.set()"
   ]
  },
  {
   "cell_type": "markdown",
   "metadata": {},
   "source": [
    "## Load Data"
   ]
  },
  {
   "cell_type": "code",
   "execution_count": 20,
   "metadata": {},
   "outputs": [
    {
     "name": "stdout",
     "output_type": "stream",
     "text": [
      "Extracting data/train-images-idx3-ubyte.gz\n",
      "Extracting data/train-labels-idx1-ubyte.gz\n",
      "Extracting data/t10k-images-idx3-ubyte.gz\n",
      "Extracting data/t10k-labels-idx1-ubyte.gz\n"
     ]
    }
   ],
   "source": [
    "# Download images and labels into mnist.test (10K images+labels) and mnist.train (60K images+labels)\n",
    "mnist = mnist_data.read_data_sets(\"data\", one_hot=True, reshape=False, validation_size=0)"
   ]
  },
  {
   "cell_type": "markdown",
   "metadata": {},
   "source": [
    "## Setup Model"
   ]
  },
  {
   "cell_type": "markdown",
   "metadata": {},
   "source": [
    "Lets first make a simple soft-max classification of MNIST digits.\n",
    "\n",
    "![](../images/model.png)\n",
    "\n",
    "Take each `28 x 28` image, flatten into a `784` vector, and have that fully connected to a 10-node softmax layer which will serve as our classifier. "
   ]
  },
  {
   "cell_type": "markdown",
   "metadata": {},
   "source": [
    "Lets define all our sizes up front for clarity"
   ]
  },
  {
   "cell_type": "code",
   "execution_count": 21,
   "metadata": {
    "collapsed": true
   },
   "outputs": [],
   "source": [
    "batchSize = None;       # put None for right now as we dont know yet\n",
    "imgHeight = 28\n",
    "imgWidth = 28\n",
    "numOfColors = 1         # gray scale images\n",
    "flatSize = imgHeight*imgWidth*numOfColors   # 728\n",
    "numberOfClasses = 10    # 10 classes: 0-9"
   ]
  },
  {
   "cell_type": "markdown",
   "metadata": {},
   "source": [
    "Now we can define our variables. Lets begin with our our input images: `X_img`:"
   ]
  },
  {
   "cell_type": "code",
   "execution_count": 22,
   "metadata": {
    "collapsed": true
   },
   "outputs": [],
   "source": [
    "# Input Data\n",
    "X_img = tf.placeholder(tf.float32, [batchSize, imgHeight, imgWidth, numOfColors], name=\"X_img\")"
   ]
  },
  {
   "cell_type": "markdown",
   "metadata": {},
   "source": [
    "This is a tensor, where we can image a set of photographs stacked vertically across a table of length `batchSize` from left to right. So X_img[0,:,:,:] would be the first image, for example."
   ]
  },
  {
   "cell_type": "markdown",
   "metadata": {},
   "source": [
    "We also need to reshape/flatten our input data in `X_img` into an input vector: `X_vec`.  \n",
    "\n",
    "**Note**: If one component of `shape` is the special value `-1`, the size of that dimension is computed so that the total size remains constant. In particular, a shape of `[-1]` flattens into `1-D`. At most one component of `shape` can be `-1`."
   ]
  },
  {
   "cell_type": "code",
   "execution_count": 23,
   "metadata": {
    "collapsed": true
   },
   "outputs": [],
   "source": [
    "X_vec = tf.reshape(X_img, [-1, 784], name=\"X_vec\")"
   ]
  },
  {
   "cell_type": "markdown",
   "metadata": {},
   "source": [
    "`X_vec` has the following shape:\n",
    "\n",
    "![](../images/x_vec.png)\n",
    "\n",
    "where we see that each image in our batch has been flattened into a row of length: $28*28*1 = 784$ and stacked."
   ]
  },
  {
   "cell_type": "markdown",
   "metadata": {},
   "source": [
    "Now we define our weights and biases:"
   ]
  },
  {
   "cell_type": "code",
   "execution_count": 24,
   "metadata": {
    "collapsed": true
   },
   "outputs": [],
   "source": [
    "# Weights\n",
    "W = tf.Variable(tf.zeros([flatSize, numberOfClasses]), name=\"Weights\")\n",
    "\n",
    "# Biases\n",
    "b = tf.Variable(tf.zeros([10]), name=\"Biases\")"
   ]
  },
  {
   "cell_type": "markdown",
   "metadata": {},
   "source": [
    "Now, the effect of multiplying `X_vec` which is $100 \\times 784$ by `W` which is $784 \\times 10$ is to produce a matrix of size $100 \\times 10$, which we can think of as each image in our batch's projection onto the space of digits - i.e - how much of this image belongs to this class? \n",
    "\n",
    "**Note**: These weights/biases are what we will tune to make this question precise."
   ]
  },
  {
   "cell_type": "markdown",
   "metadata": {},
   "source": [
    "Now we initialize all our variables:"
   ]
  },
  {
   "cell_type": "code",
   "execution_count": 25,
   "metadata": {
    "collapsed": true
   },
   "outputs": [],
   "source": [
    "init = tf.global_variables_initializer()"
   ]
  },
  {
   "cell_type": "markdown",
   "metadata": {},
   "source": [
    "Now we can specify our activation model:\n",
    "\n",
    "![](../images/output.png)"
   ]
  },
  {
   "cell_type": "code",
   "execution_count": 26,
   "metadata": {
    "collapsed": true
   },
   "outputs": [],
   "source": [
    "Y_Pred_Prob = tf.nn.softmax(tf.matmul(X_vec, W) + b, name=\"softmax\")"
   ]
  },
  {
   "cell_type": "markdown",
   "metadata": {},
   "source": [
    "And define a placeholder for the correct labels we will use later on:"
   ]
  },
  {
   "cell_type": "code",
   "execution_count": 27,
   "metadata": {
    "collapsed": true
   },
   "outputs": [],
   "source": [
    "Y_True_Prob = tf.placeholder(tf.float32, [None, 10], name=\"Y_True\")"
   ]
  },
  {
   "cell_type": "markdown",
   "metadata": {},
   "source": [
    "This is of size `batchSize x 10` where `batchsize` is the number of images we have in the current batch. \n",
    "\n",
    "Note: I've called it `Y_True_Prob` to be in line with `Y_Pred_Prob`, but this will be a vectors of all $0$'s except a single $1$ at the true class label. This is still consistent with it being considered a \"true probability\"."
   ]
  },
  {
   "cell_type": "markdown",
   "metadata": {},
   "source": [
    "To measure our loss, we will use the cross-entropy loss:\n",
    "\n",
    "![](../images/cross_entropy_loss.png)"
   ]
  },
  {
   "cell_type": "code",
   "execution_count": 28,
   "metadata": {},
   "outputs": [],
   "source": [
    "cross_entropy_loss = -tf.reduce_sum(Y_True_Prob * tf.log(Y_Pred_Prob), name=\"Loss_Cross_Entropy\")"
   ]
  },
  {
   "cell_type": "markdown",
   "metadata": {},
   "source": [
    "Now we go ahead and compute the actual predictions by just selecting the class with the highest probability:"
   ]
  },
  {
   "cell_type": "code",
   "execution_count": 29,
   "metadata": {
    "collapsed": true
   },
   "outputs": [],
   "source": [
    "Y_Pred_Class = tf.argmax(Y_Pred_Prob,1, name=\"Y_Pred_Class\")\n",
    "Y_True_Class = tf.argmax(Y_True_Prob,1, name=\"Y_True_Class\")   # there is only 1 non-zero index"
   ]
  },
  {
   "cell_type": "markdown",
   "metadata": {},
   "source": [
    "Using this, we can compute some accuracy metrics:"
   ]
  },
  {
   "cell_type": "code",
   "execution_count": 30,
   "metadata": {},
   "outputs": [],
   "source": [
    "is_correct = tf.equal(Y_Pred_Class, Y_True_Class, name=\"calcCorrect\")\n",
    "\n",
    "accuracy = tf.reduce_mean(tf.cast(is_correct, tf.float32), name=\"calcAccuracy\")"
   ]
  },
  {
   "cell_type": "markdown",
   "metadata": {},
   "source": [
    "# Training\n",
    "\n",
    "Now we get to the training! Lets setup the optimizer and give it the loss function we've defined:"
   ]
  },
  {
   "cell_type": "code",
   "execution_count": 31,
   "metadata": {},
   "outputs": [],
   "source": [
    "alpha = 0.003                          # our learning rate\n",
    "\n",
    "optimizer = tf.train.GradientDescentOptimizer(alpha, name=\"optimizer\")\n",
    "\n",
    "trainStep = optimizer.minimize(cross_entropy_loss, name=\"trainStep\")"
   ]
  },
  {
   "cell_type": "markdown",
   "metadata": {},
   "source": [
    "Lets dump the graph out for visualization:"
   ]
  },
  {
   "cell_type": "code",
   "execution_count": 32,
   "metadata": {},
   "outputs": [],
   "source": [
    "# graph_def = tf.get_default_graph().as_graph_def()\n",
    "# with open('mygraph.pbtxt','w') as f: f.write(str(graph_def))"
   ]
  },
  {
   "cell_type": "markdown",
   "metadata": {},
   "source": [
    "Now we can actually **run** our computation graph in our tensorflow session through batches "
   ]
  },
  {
   "cell_type": "code",
   "execution_count": 33,
   "metadata": {
    "collapsed": true
   },
   "outputs": [],
   "source": [
    "numberOfBatches = 10000\n",
    "batchSize = 100\n",
    "\n",
    "trainingAccuracyList = []\n",
    "trainingLossList = []\n",
    "testAccuracyList = []\n",
    "testLossList = []"
   ]
  },
  {
   "cell_type": "code",
   "execution_count": 34,
   "metadata": {},
   "outputs": [],
   "source": [
    "with tf.Session() as sess:\n",
    "    \n",
    "    # actually initialize our variables\n",
    "    sess.run(init)\n",
    "    \n",
    "    # batch-minimization loop\n",
    "    for i in range(numberOfBatches):\n",
    "        # get this batches data\n",
    "        batch_X, batch_Y = mnist.train.next_batch(batchSize)\n",
    "        \n",
    "        # setup this batches input dictionary\n",
    "        train_data = {X_img: batch_X, Y_True_Prob: batch_Y}\n",
    "        \n",
    "        # run the training step on this batch\n",
    "        sess.run(trainStep, feed_dict=train_data)\n",
    "        \n",
    "\n",
    "        # compute this batches success on the training data\n",
    "        trainAcc,trainLoss = sess.run([accuracy, cross_entropy_loss], feed_dict=train_data)\n",
    "\n",
    "        if i%100 == 0:\n",
    "            # compute our success on the test data\n",
    "            test_data = {X_img: mnist.test.images, Y_True_Prob: mnist.test.labels}\n",
    "            testAcc,testLoss = sess.run([accuracy, cross_entropy_loss], feed_dict=test_data)\n",
    "            # print(\"Train \" + str(i) + \": accuracy:\" + str(trainAcc) + \" loss: \" + str(trainLoss))\n",
    "            # print(\"Test \" + str(i) + \": accuracy:\" + str(testAcc) + \" loss: \" + str(testLoss))\n",
    "            \n",
    "            trainingAccuracyList.append(trainAcc)\n",
    "            trainingLossList.append(trainLoss)\n",
    "            testAccuracyList.append(testAcc)\n",
    "            testLossList.append(testLoss)"
   ]
  },
  {
   "cell_type": "markdown",
   "metadata": {},
   "source": [
    "# Plotting"
   ]
  },
  {
   "cell_type": "code",
   "execution_count": 35,
   "metadata": {},
   "outputs": [
    {
     "data": {
      "image/png": "[encoded data removed]",
      "text/plain": [
       "<matplotlib.figure.Figure at 0x1c2b1d4240>"
      ]
     },
     "metadata": {},
     "output_type": "display_data"
    }
   ],
   "source": [
    "plt.figure(figsize=(10,5))\n",
    "\n",
    "# Plot Accuracy\n",
    "plt.subplot(1,2,1);\n",
    "plt.plot(trainingAccuracyList, label=\"Train Acc\");\n",
    "plt.plot(testAccuracyList, label=\"Test Acc\");\n",
    "plt.title(\"Accuracy\");\n",
    "plt.legend();\n",
    "\n",
    "# Plot Loss\n",
    "plt.subplot(1,2,2);\n",
    "plt.plot(trainingLossList, label=\"Test Loss\");\n",
    "plt.plot(testLossList, label=\"Test Loss\");\n",
    "plt.title(\"Loss\");\n",
    "plt.legend();"
   ]
  }
 ],
 "metadata": {
  "kernelspec": {
   "display_name": "Python 3",
   "language": "python",
   "name": "python3"
  },
  "language_info": {
   "codemirror_mode": {
    "name": "ipython",
    "version": 3
   },
   "file_extension": ".py",
   "mimetype": "text/x-python",
   "name": "python",
   "nbconvert_exporter": "python",
   "pygments_lexer": "ipython3",
   "version": "3.6.3"
  },
  "toc": {
   "nav_menu": {},
   "number_sections": true,
   "sideBar": true,
   "skip_h1_title": false,
   "toc_cell": false,
   "toc_position": {},
   "toc_section_display": "block",
   "toc_window_display": false
  },
  "widgets": {
   "application/vnd.jupyter.widget-state+json": {
    "state": {},
    "version_major": 2,
    "version_minor": 0
   }
  }
 },
 "nbformat": 4,
 "nbformat_minor": 2
}
